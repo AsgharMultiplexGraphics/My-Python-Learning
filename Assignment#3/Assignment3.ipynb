{
 "cells": [
  {
   "cell_type": "code",
   "execution_count": 1,
   "id": "6a3cfe0d",
   "metadata": {},
   "outputs": [
    {
     "name": "stdout",
     "output_type": "stream",
     "text": [
      "Grade A+\n"
     ]
    }
   ],
   "source": [
    "#student name Asghar Ali Rol Number: JP10866 \n",
    "eng = 99;\n",
    "isl = 89;\n",
    "mth = 67;\n",
    "totalMarks = 300;\n",
    "percentage = (eng+isl+mth)/totalMarks*100;\n",
    "#print(\"Percentage\"); print(percentage)\n",
    "if percentage <100 and percentage >80:\n",
    "    print (\"Grade A+\");\n",
    "elif percentage <80 and percentage >70:\n",
    "    print (\"Grade A\");\n",
    "elif percentage <70 and percentage >60:\n",
    "    print (\"Grade c\");\n",
    "elif percentage <60 and percentage >50:\n",
    "    print (\"Grade D\");\n",
    "elif percentage <40 and percentage >33:\n",
    "    print (\"Grade E\")\n",
    "else:\n",
    "    print (\"Fail\");"
   ]
  },
  {
   "cell_type": "code",
   "execution_count": 2,
   "id": "4c06e205",
   "metadata": {},
   "outputs": [
    {
     "name": "stdout",
     "output_type": "stream",
     "text": [
      "This is new line update\n"
     ]
    }
   ],
   "source": [
    "print(\"This is new line update\")"
   ]
  },
  {
   "cell_type": "code",
   "execution_count": null,
   "id": "e09e0c6a",
   "metadata": {},
   "outputs": [],
   "source": []
  }
 ],
 "metadata": {
  "kernelspec": {
   "display_name": "Python 3",
   "language": "python",
   "name": "python3"
  },
  "language_info": {
   "codemirror_mode": {
    "name": "ipython",
    "version": 3
   },
   "file_extension": ".py",
   "mimetype": "text/x-python",
   "name": "python",
   "nbconvert_exporter": "python",
   "pygments_lexer": "ipython3",
   "version": "3.8.8"
  }
 },
 "nbformat": 4,
 "nbformat_minor": 5
}
