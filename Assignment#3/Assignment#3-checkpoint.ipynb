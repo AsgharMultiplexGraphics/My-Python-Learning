{
 "cells": [
  {
   "cell_type": "code",
   "execution_count": 3,
   "id": "37b6952f",
   "metadata": {},
   "outputs": [
    {
     "name": "stdout",
     "output_type": "stream",
     "text": [
      "Twinkle, twinkle, little star,\n",
      " \t\t How I wonder what you are!\n",
      " \t\t\tUp above the world so high,\n",
      "\t\t\tLike a diamond in the sky.\n",
      "Twinkle, twinkle, little star,\n",
      " \t\t How I wonder what you are!\n"
     ]
    }
   ],
   "source": [
    "print(\"Twinkle, twinkle, little star,\\n \\t\\t How I wonder what you are!\\n \\t\\t\\tUp above the world so high,\\n\\t\\t\\tLike a diamond in the sky.\\nTwinkle, twinkle, little star,\\n \\t\\t How I wonder what you are!\")\n"
   ]
  },
  {
   "cell_type": "code",
   "execution_count": 5,
   "id": "25c07dd8",
   "metadata": {},
   "outputs": [
    {
     "name": "stdout",
     "output_type": "stream",
     "text": [
      "Python version\n",
      "3.8.8 (default, Apr 13 2021, 15:08:03) [MSC v.1916 64 bit (AMD64)]\n"
     ]
    }
   ],
   "source": [
    "import sys\n",
    "print(\"Python version\")\n",
    "print (sys.version)"
   ]
  },
  {
   "cell_type": "code",
   "execution_count": 6,
   "id": "fd83a690",
   "metadata": {},
   "outputs": [
    {
     "name": "stdout",
     "output_type": "stream",
     "text": [
      "Current date and time : \n",
      "2021-10-24 18:37:16\n"
     ]
    }
   ],
   "source": [
    "import datetime\n",
    "time = datetime.datetime.now()\n",
    "print (\"Current date and time : \")\n",
    "print (time.strftime(\"%Y-%m-%d %H:%M:%S\"))"
   ]
  },
  {
   "cell_type": "code",
   "execution_count": 8,
   "id": "aaa175a8",
   "metadata": {},
   "outputs": [
    {
     "name": "stdout",
     "output_type": "stream",
     "text": [
      "Input the radius of the circle : 4\n",
      "The area of the circle is: 50.24\n"
     ]
    }
   ],
   "source": [
    " pi = 3.14\n",
    "radius = float(input (\"Input the radius of the circle : \"))\n",
    "print (\"The area of the circle is: \" + str(pi * radius**2))"
   ]
  },
  {
   "cell_type": "code",
   "execution_count": 9,
   "id": "74b99ffb",
   "metadata": {},
   "outputs": [
    {
     "name": "stdout",
     "output_type": "stream",
     "text": [
      "Input First Name : Asghar\n",
      "Input Last Name : Ali\n",
      "Ali Asghar\n"
     ]
    }
   ],
   "source": [
    "fname = input(\"Input First Name : \")\n",
    "lname = input(\"Input Last Name : \")\n",
    "print ( lname + \" \" + fname)"
   ]
  },
  {
   "cell_type": "code",
   "execution_count": 11,
   "id": "722c48a1",
   "metadata": {},
   "outputs": [
    {
     "name": "stdout",
     "output_type": "stream",
     "text": [
      "Input First Number : 4\n",
      "Input second Number : 5\n",
      "9\n"
     ]
    }
   ],
   "source": [
    "num1 = int(input(\"Input First Number : \"))\n",
    "num2 = int(input(\"Input second Number : \"))\n",
    "print ( num1+num2)"
   ]
  },
  {
   "cell_type": "code",
   "execution_count": 12,
   "id": "e7302a4a",
   "metadata": {},
   "outputs": [
    {
     "name": "stdout",
     "output_type": "stream",
     "text": [
      "Input English Marks : 89\n",
      "Input Islamiyat Marks : 69\n",
      "Input Math Marks : 99\n",
      "Input Computer Marks : 88\n",
      "Input Pak Study Marks : 87\n",
      "Grade A+\n"
     ]
    }
   ],
   "source": [
    "eng = int(input(\"Input English Marks : \"))\n",
    "isl = int(input(\"Input Islamiyat Marks : \"))\n",
    "mth = int(input(\"Input Math Marks : \"))\n",
    "com = int(input(\"Input Computer Marks : \"))\n",
    "pak = int(input(\"Input Pak Study Marks : \"))\n",
    "totalMarks = 500;\n",
    "percentage = (eng+isl+mth+pak+com)/totalMarks*100;\n",
    "#print(\"Percentage\"); print(percentage)\n",
    "if percentage <100 and percentage >80:\n",
    "    print (\"Grade A+\");\n",
    "elif percentage <80 and percentage >70:\n",
    "    print (\"Grade A\");\n",
    "elif percentage <70 and percentage >60:\n",
    "    print (\"Grade c\");\n",
    "elif percentage <60 and percentage >50:\n",
    "    print (\"Grade D\");\n",
    "elif percentage <40 and percentage >33:\n",
    "    print (\"Grade E\")\n",
    "else:\n",
    "    print (\"Fail\");"
   ]
  },
  {
   "cell_type": "code",
   "execution_count": 22,
   "id": "e3f97c55",
   "metadata": {},
   "outputs": [
    {
     "name": "stdout",
     "output_type": "stream",
     "text": [
      "Enter a number: 3\n",
      "This is an Odd number.\n"
     ]
    }
   ],
   "source": [
    "num3 = int(input(\"Enter a number: \"))\n",
    "\n",
    "if num3%2 == 0:\n",
    "    print(\"This is an Even number.\")\n",
    "else:\n",
    "    print(\"This is an Odd number.\")"
   ]
  },
  {
   "cell_type": "code",
   "execution_count": 3,
   "id": "133a101d",
   "metadata": {},
   "outputs": [
    {
     "name": "stdout",
     "output_type": "stream",
     "text": [
      "8\n"
     ]
    }
   ],
   "source": [
    "aList = [\"Hellow\", 1, 2, 3, 5, \"Python\",\"true\", 2.134]\n",
    "\n",
    "size = len(aList)\n",
    "print(size)"
   ]
  },
  {
   "cell_type": "code",
   "execution_count": 5,
   "id": "007090ce",
   "metadata": {},
   "outputs": [
    {
     "name": "stdout",
     "output_type": "stream",
     "text": [
      "232\n"
     ]
    }
   ],
   "source": [
    "a = [1, 1, 2, 3, 5, 8, 13, 21, 34, 55, 89]\n",
    "def sum_list(items):\n",
    "    sumnum = 0\n",
    "    for i in items:\n",
    "        sumnum += i\n",
    "    return sumnum\n",
    "print(sum_list(a))"
   ]
  },
  {
   "cell_type": "code",
   "execution_count": 7,
   "id": "4491862f",
   "metadata": {},
   "outputs": [
    {
     "name": "stdout",
     "output_type": "stream",
     "text": [
      "89\n"
     ]
    }
   ],
   "source": [
    "a = [1, 1, 2, 3, 5, 8, 13, 21, 34, 55, 89]\n",
    "\n",
    "print(max(a))"
   ]
  },
  {
   "cell_type": "code",
   "execution_count": 22,
   "id": "c15766b9",
   "metadata": {},
   "outputs": [
    {
     "name": "stdout",
     "output_type": "stream",
     "text": [
      "1\n",
      "1\n",
      "2\n",
      "3\n"
     ]
    }
   ],
   "source": [
    "a = [1, 1, 2, 3, 5, 8, 13, 21, 34, 55, 89]\n",
    "for i in range(0,len(a)):\n",
    "    if a[i]<5:\n",
    "        print(a[i])"
   ]
  },
  {
   "cell_type": "code",
   "execution_count": null,
   "id": "3c5f3fdb",
   "metadata": {},
   "outputs": [],
   "source": []
  }
 ],
 "metadata": {
  "kernelspec": {
   "display_name": "Python 3",
   "language": "python",
   "name": "python3"
  },
  "language_info": {
   "codemirror_mode": {
    "name": "ipython",
    "version": 3
   },
   "file_extension": ".py",
   "mimetype": "text/x-python",
   "name": "python",
   "nbconvert_exporter": "python",
   "pygments_lexer": "ipython3",
   "version": "3.8.8"
  }
 },
 "nbformat": 4,
 "nbformat_minor": 5
}
